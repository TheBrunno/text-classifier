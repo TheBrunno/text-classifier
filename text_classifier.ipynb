{
  "nbformat": 4,
  "nbformat_minor": 0,
  "metadata": {
    "colab": {
      "provenance": []
    },
    "kernelspec": {
      "name": "python3",
      "display_name": "Python 3"
    },
    "language_info": {
      "name": "python"
    }
  },
  "cells": [
    {
      "cell_type": "markdown",
      "source": [
        "# Text Classifier"
      ],
      "metadata": {
        "id": "h5YaZ8E6ETWA"
      }
    },
    {
      "cell_type": "markdown",
      "source": [
        "For training and testing I used the [_fetch_20newsgroups_](https://scikit-learn.org/stable/modules/generated/sklearn.datasets.fetch_20newsgroups.html) by _sklearn.datasets_\n",
        "\n"
      ],
      "metadata": {
        "id": "oZ4GR7haE7K0"
      }
    },
    {
      "cell_type": "markdown",
      "source": [
        "## Importing our classes, dataset and the more functions"
      ],
      "metadata": {
        "id": "SCG456W2Gh36"
      }
    },
    {
      "cell_type": "code",
      "execution_count": 74,
      "metadata": {
        "id": "iDa652ItEGmc"
      },
      "outputs": [],
      "source": [
        "from sklearn.datasets import fetch_20newsgroups\n",
        "from sklearn.feature_extraction.text import TfidfVectorizer\n",
        "\n",
        "from sklearn.linear_model import SGDClassifier\n",
        "\n",
        "from sklearn import metrics\n",
        "from sklearn.metrics import confusion_matrix\n",
        "\n",
        "import matplotlib.pyplot as plt"
      ]
    },
    {
      "cell_type": "markdown",
      "source": [
        "## Limiting the number of categories"
      ],
      "metadata": {
        "id": "pOrGxQEpKjAg"
      }
    },
    {
      "cell_type": "code",
      "source": [
        "categories = ['alt.atheism', 'soc.religion.christian', 'comp.graphics', 'sci.med', 'rec.autos', 'rec.motorcycles', 'rec.sport.baseball', 'rec.sport.hockey', 'sci.electronics']\n",
        "train = fetch_20newsgroups(subset='train', categories=categories, shuffle=True, random_state=42)"
      ],
      "metadata": {
        "id": "i3qFhuppKBRd"
      },
      "execution_count": 75,
      "outputs": []
    },
    {
      "cell_type": "markdown",
      "source": [
        "## Feedback about our data"
      ],
      "metadata": {
        "id": "0DVdbUBULL8Q"
      }
    },
    {
      "cell_type": "code",
      "source": [
        "print(train.target_names)"
      ],
      "metadata": {
        "colab": {
          "base_uri": "https://localhost:8080/"
        },
        "id": "X8Ugg6nrLS0A",
        "outputId": "a57a8b30-2d87-4a34-8c7f-029470610292"
      },
      "execution_count": 76,
      "outputs": [
        {
          "output_type": "stream",
          "name": "stdout",
          "text": [
            "['alt.atheism', 'comp.graphics', 'rec.autos', 'rec.motorcycles', 'rec.sport.baseball', 'rec.sport.hockey', 'sci.electronics', 'sci.med', 'soc.religion.christian']\n"
          ]
        }
      ]
    },
    {
      "cell_type": "code",
      "source": [
        "train.target[:10]"
      ],
      "metadata": {
        "colab": {
          "base_uri": "https://localhost:8080/"
        },
        "id": "jlSwfbCMMjRE",
        "outputId": "fb93e2ff-7b08-4ab2-8ff9-b94d34482511"
      },
      "execution_count": 77,
      "outputs": [
        {
          "output_type": "execute_result",
          "data": {
            "text/plain": [
              "array([5, 1, 6, 7, 6, 5, 3, 5, 0, 8])"
            ]
          },
          "metadata": {},
          "execution_count": 77
        }
      ]
    },
    {
      "cell_type": "code",
      "source": [
        "for t in train.target[:10]:\n",
        "  print(train.target_names[t])"
      ],
      "metadata": {
        "colab": {
          "base_uri": "https://localhost:8080/"
        },
        "id": "O8Ff-aRsNAnU",
        "outputId": "d2cb91b5-272d-4adb-8c75-0ab0f615cb53"
      },
      "execution_count": 78,
      "outputs": [
        {
          "output_type": "stream",
          "name": "stdout",
          "text": [
            "rec.sport.hockey\n",
            "comp.graphics\n",
            "sci.electronics\n",
            "sci.med\n",
            "sci.electronics\n",
            "rec.sport.hockey\n",
            "rec.motorcycles\n",
            "rec.sport.hockey\n",
            "alt.atheism\n",
            "soc.religion.christian\n"
          ]
        }
      ]
    },
    {
      "cell_type": "markdown",
      "source": [
        "## About the Classifier - TF-IDF"
      ],
      "metadata": {
        "id": "JqrIE_M7NL3W"
      }
    },
    {
      "cell_type": "code",
      "source": [
        "vectorizer = TfidfVectorizer()\n",
        "X_train = vectorizer.fit_transform(train.data)"
      ],
      "metadata": {
        "id": "-lD17UMKOPFs"
      },
      "execution_count": 79,
      "outputs": []
    },
    {
      "cell_type": "markdown",
      "source": [
        "Classifier training"
      ],
      "metadata": {
        "id": "swoKVSiwSijE"
      }
    },
    {
      "cell_type": "code",
      "source": [
        "clf = SGDClassifier(loss='hinge', penalty='l2', alpha=1e-3, random_state=42, max_iter=5, tol=None)\n",
        "clf.fit(X_train, train.target)"
      ],
      "metadata": {
        "colab": {
          "base_uri": "https://localhost:8080/",
          "height": 75
        },
        "id": "tHXG6nKVSoJA",
        "outputId": "511a0328-38db-44f6-c104-eff87befd600"
      },
      "execution_count": 80,
      "outputs": [
        {
          "output_type": "execute_result",
          "data": {
            "text/plain": [
              "SGDClassifier(alpha=0.001, max_iter=5, random_state=42, tol=None)"
            ],
            "text/html": [
              "<style>#sk-container-id-3 {color: black;background-color: white;}#sk-container-id-3 pre{padding: 0;}#sk-container-id-3 div.sk-toggleable {background-color: white;}#sk-container-id-3 label.sk-toggleable__label {cursor: pointer;display: block;width: 100%;margin-bottom: 0;padding: 0.3em;box-sizing: border-box;text-align: center;}#sk-container-id-3 label.sk-toggleable__label-arrow:before {content: \"▸\";float: left;margin-right: 0.25em;color: #696969;}#sk-container-id-3 label.sk-toggleable__label-arrow:hover:before {color: black;}#sk-container-id-3 div.sk-estimator:hover label.sk-toggleable__label-arrow:before {color: black;}#sk-container-id-3 div.sk-toggleable__content {max-height: 0;max-width: 0;overflow: hidden;text-align: left;background-color: #f0f8ff;}#sk-container-id-3 div.sk-toggleable__content pre {margin: 0.2em;color: black;border-radius: 0.25em;background-color: #f0f8ff;}#sk-container-id-3 input.sk-toggleable__control:checked~div.sk-toggleable__content {max-height: 200px;max-width: 100%;overflow: auto;}#sk-container-id-3 input.sk-toggleable__control:checked~label.sk-toggleable__label-arrow:before {content: \"▾\";}#sk-container-id-3 div.sk-estimator input.sk-toggleable__control:checked~label.sk-toggleable__label {background-color: #d4ebff;}#sk-container-id-3 div.sk-label input.sk-toggleable__control:checked~label.sk-toggleable__label {background-color: #d4ebff;}#sk-container-id-3 input.sk-hidden--visually {border: 0;clip: rect(1px 1px 1px 1px);clip: rect(1px, 1px, 1px, 1px);height: 1px;margin: -1px;overflow: hidden;padding: 0;position: absolute;width: 1px;}#sk-container-id-3 div.sk-estimator {font-family: monospace;background-color: #f0f8ff;border: 1px dotted black;border-radius: 0.25em;box-sizing: border-box;margin-bottom: 0.5em;}#sk-container-id-3 div.sk-estimator:hover {background-color: #d4ebff;}#sk-container-id-3 div.sk-parallel-item::after {content: \"\";width: 100%;border-bottom: 1px solid gray;flex-grow: 1;}#sk-container-id-3 div.sk-label:hover label.sk-toggleable__label {background-color: #d4ebff;}#sk-container-id-3 div.sk-serial::before {content: \"\";position: absolute;border-left: 1px solid gray;box-sizing: border-box;top: 0;bottom: 0;left: 50%;z-index: 0;}#sk-container-id-3 div.sk-serial {display: flex;flex-direction: column;align-items: center;background-color: white;padding-right: 0.2em;padding-left: 0.2em;position: relative;}#sk-container-id-3 div.sk-item {position: relative;z-index: 1;}#sk-container-id-3 div.sk-parallel {display: flex;align-items: stretch;justify-content: center;background-color: white;position: relative;}#sk-container-id-3 div.sk-item::before, #sk-container-id-3 div.sk-parallel-item::before {content: \"\";position: absolute;border-left: 1px solid gray;box-sizing: border-box;top: 0;bottom: 0;left: 50%;z-index: -1;}#sk-container-id-3 div.sk-parallel-item {display: flex;flex-direction: column;z-index: 1;position: relative;background-color: white;}#sk-container-id-3 div.sk-parallel-item:first-child::after {align-self: flex-end;width: 50%;}#sk-container-id-3 div.sk-parallel-item:last-child::after {align-self: flex-start;width: 50%;}#sk-container-id-3 div.sk-parallel-item:only-child::after {width: 0;}#sk-container-id-3 div.sk-dashed-wrapped {border: 1px dashed gray;margin: 0 0.4em 0.5em 0.4em;box-sizing: border-box;padding-bottom: 0.4em;background-color: white;}#sk-container-id-3 div.sk-label label {font-family: monospace;font-weight: bold;display: inline-block;line-height: 1.2em;}#sk-container-id-3 div.sk-label-container {text-align: center;}#sk-container-id-3 div.sk-container {/* jupyter's `normalize.less` sets `[hidden] { display: none; }` but bootstrap.min.css set `[hidden] { display: none !important; }` so we also need the `!important` here to be able to override the default hidden behavior on the sphinx rendered scikit-learn.org. See: https://github.com/scikit-learn/scikit-learn/issues/21755 */display: inline-block !important;position: relative;}#sk-container-id-3 div.sk-text-repr-fallback {display: none;}</style><div id=\"sk-container-id-3\" class=\"sk-top-container\"><div class=\"sk-text-repr-fallback\"><pre>SGDClassifier(alpha=0.001, max_iter=5, random_state=42, tol=None)</pre><b>In a Jupyter environment, please rerun this cell to show the HTML representation or trust the notebook. <br />On GitHub, the HTML representation is unable to render, please try loading this page with nbviewer.org.</b></div><div class=\"sk-container\" hidden><div class=\"sk-item\"><div class=\"sk-estimator sk-toggleable\"><input class=\"sk-toggleable__control sk-hidden--visually\" id=\"sk-estimator-id-3\" type=\"checkbox\" checked><label for=\"sk-estimator-id-3\" class=\"sk-toggleable__label sk-toggleable__label-arrow\">SGDClassifier</label><div class=\"sk-toggleable__content\"><pre>SGDClassifier(alpha=0.001, max_iter=5, random_state=42, tol=None)</pre></div></div></div></div></div>"
            ]
          },
          "metadata": {},
          "execution_count": 80
        }
      ]
    },
    {
      "cell_type": "markdown",
      "source": [
        "## Evaluating the performance"
      ],
      "metadata": {
        "id": "6XE8_C2eT0zB"
      }
    },
    {
      "cell_type": "code",
      "source": [
        "test = fetch_20newsgroups(subset='test', categories=categories, shuffle=True, random_state=42)\n",
        "docs_test = test.data\n",
        "\n",
        "vect_transform = vectorizer.transform(docs_test)\n",
        "predicted = clf.predict(vect_transform)\n",
        "\n",
        "print(metrics.classification_report(test.target, predicted, target_names=test.target_names))\n",
        "\n",
        "print(clf.classes_)"
      ],
      "metadata": {
        "colab": {
          "base_uri": "https://localhost:8080/"
        },
        "id": "PXRO0ACzT9ZR",
        "outputId": "c9d60a50-7c64-44f3-a42a-6cffdb1241aa"
      },
      "execution_count": 81,
      "outputs": [
        {
          "output_type": "stream",
          "name": "stdout",
          "text": [
            "                        precision    recall  f1-score   support\n",
            "\n",
            "           alt.atheism       0.91      0.78      0.84       319\n",
            "         comp.graphics       0.87      0.93      0.90       389\n",
            "             rec.autos       0.96      0.93      0.94       396\n",
            "       rec.motorcycles       0.94      0.97      0.96       398\n",
            "    rec.sport.baseball       0.92      0.94      0.93       397\n",
            "      rec.sport.hockey       0.93      0.98      0.95       399\n",
            "       sci.electronics       0.90      0.83      0.87       393\n",
            "               sci.med       0.96      0.88      0.91       396\n",
            "soc.religion.christian       0.85      0.95      0.90       398\n",
            "\n",
            "              accuracy                           0.91      3485\n",
            "             macro avg       0.91      0.91      0.91      3485\n",
            "          weighted avg       0.91      0.91      0.91      3485\n",
            "\n",
            "[0 1 2 3 4 5 6 7 8]\n"
          ]
        }
      ]
    },
    {
      "cell_type": "code",
      "source": [
        "confusion_matrix = confusion_matrix(test.target, predicted)\n",
        "print(confusion_matrix)"
      ],
      "metadata": {
        "colab": {
          "base_uri": "https://localhost:8080/"
        },
        "id": "x4-XnDJ8Ve7z",
        "outputId": "fee25b1d-a366-4a7f-e091-921b0d4bc957"
      },
      "execution_count": 82,
      "outputs": [
        {
          "output_type": "stream",
          "name": "stdout",
          "text": [
            "[[249   3   0   3   3   1   2   9  49]\n",
            " [  4 363   1   1   6   0   9   1   4]\n",
            " [  1   4 367   6   5   0  12   1   0]\n",
            " [  1   1   7 385   3   0   1   0   0]\n",
            " [  0   0   1   0 373  22   0   0   1]\n",
            " [  0   1   0   0   5 392   0   0   1]\n",
            " [  6  34   6   6   3   3 327   4   4]\n",
            " [  6  10   0   7   6   4   7 347   9]\n",
            " [  8   3   1   0   1   0   4   1 380]]\n"
          ]
        }
      ]
    },
    {
      "cell_type": "code",
      "source": [
        "# para melhor visualização da matriz de confusao\n",
        "plt.matshow(confusion_matrix)\n",
        "plt.title('Matriz de confusão')\n",
        "plt.colorbar()\n",
        "\n",
        "plt.ylabel('Classificações corretas')\n",
        "plt.xlabel('Classificações obtidas')\n",
        "plt.show()"
      ],
      "metadata": {
        "colab": {
          "base_uri": "https://localhost:8080/",
          "height": 473
        },
        "id": "rNGzzMfjV5iP",
        "outputId": "0ecac7ea-d0f2-4d6c-ac41-0155ab0cb782"
      },
      "execution_count": 83,
      "outputs": [
        {
          "output_type": "display_data",
          "data": {
            "text/plain": [
              "<Figure size 550x550 with 2 Axes>"
            ],
            "image/png": "[encoded data removed]"
          },
          "metadata": {}
        }
      ]
    },
    {
      "cell_type": "markdown",
      "source": [
        "## Predict new results"
      ],
      "metadata": {
        "id": "eLVSIejVhRA5"
      }
    },
    {
      "cell_type": "code",
      "source": [
        "docs_new = [\n",
        "    'Many individuals around the world identify as atheists, rejecting the belief in a higher power and relying on human reason and evidence-based thinking to navigate their lives.'\n",
        "    , 'Cars have revolutionized transportation and transformed the way we live, providing fast and convenient means of getting around while also posing significant challenges to the environment and public safety.'\n",
        "    , 'Christianity is one of the world\\'s largest religions, tracing its roots back to the teachings of Jesus Christ and encompassing a wide variety of beliefs and practices across different denominations and cultures.'\n",
        "    , 'Medicine plays a critical role in improving health and prolonging life, drawing on advances in science and technology to diagnose and treat a wide range of illnesses and injuries while also addressing the social and economic factors that influence health outcomes.'\n",
        "    , 'Atheism has been a subject of philosophical and cultural discourse throughout history, with proponents and critics debating the role of religion in society, the nature of belief and morality, and the implications of a godless universe.'\n",
        "    , 'Computer graphics is a rapidly evolving field that enables us to create and manipulate visual content using sophisticated algorithms and tools, allowing us to bring our ideas to life in a variety of mediums, from movies and video games to scientific simulations and virtual reality.'\n",
        "    , 'Medicine is a multifaceted discipline that encompasses the study of the human body, the prevention and treatment of illness, and the promotion of wellness, drawing on diverse fields such as biology, psychology, and social science to improve health outcomes for individuals and communities around the world.'\n",
        "    , 'Medical research is a dynamic and ever-evolving field, where new discoveries and breakthroughs are constantly challenging our understanding of human health and disease, and machine learning algorithms have emerged as a powerful tool to help us make sense of the vast and complex data that underpins our knowledge of the human body and its systems.'\n",
        "    , 'My favorite baseball team is the New York Yankees, and I love going to their games at Yankee Stadium.'\n",
        "    , 'Riding a motorcycle on a winding road with the wind in your face is an exhilarating experience that many motorcyclists enjoy.'\n",
        "    , 'Hockey is a fast-paced and physical sport that requires skill, teamwork, and strategy to win games.'\n",
        "    , 'Learning about electronics and circuit design can be a rewarding experience, and it can open up many opportunities for creating innovative devices and systems.'\n",
        "    , 'Attending church services and reading the Bible are important practices for many Christians around the world.'\n",
        "    , 'Atheism is a nuanced and multifaceted worldview that encompasses a broad range of philosophical and ethical perspectives, from secular humanism to existential nihilism, and machine learning algorithms have the potential to help us better understand the complexities of these diverse perspectives and their implications for society and the human experience.'\n",
        "    , 'Baseball is a game that has captivated the hearts and minds of millions of fans around the world, and through the use of advanced statistical analysis and machine learning techniques, we can uncover new insights and patterns in player performance data that can help teams make better decisions and gain a competitive edge on the field.'\n",
        "]\n",
        "X_new_tfidf_vectorize = vectorizer.transform(docs_new)\n",
        "\n",
        "predicted = clf.predict(X_new_tfidf_vectorize)\n",
        "\n",
        "c=0\n",
        "\n",
        "for _, category in zip(docs_new, predicted):\n",
        "  print(f'{c} => {train.target_names[category]}')\n",
        "  c+=1"
      ],
      "metadata": {
        "colab": {
          "base_uri": "https://localhost:8080/"
        },
        "id": "dgDNWbuDhk4g",
        "outputId": "a772911f-caed-4e23-a947-22ae0cb7ffc4"
      },
      "execution_count": 89,
      "outputs": [
        {
          "output_type": "stream",
          "name": "stdout",
          "text": [
            "0 => alt.atheism\n",
            "1 => rec.autos\n",
            "2 => soc.religion.christian\n",
            "3 => sci.med\n",
            "4 => alt.atheism\n",
            "5 => comp.graphics\n",
            "6 => sci.med\n",
            "7 => sci.med\n",
            "8 => rec.sport.baseball\n",
            "9 => rec.motorcycles\n",
            "10 => rec.sport.hockey\n",
            "11 => sci.electronics\n",
            "12 => soc.religion.christian\n",
            "13 => alt.atheism\n",
            "14 => rec.sport.baseball\n"
          ]
        }
      ]
    }
  ]
}